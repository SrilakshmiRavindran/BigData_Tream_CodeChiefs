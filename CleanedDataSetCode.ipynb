{
 "cells": [
  {
   "cell_type": "code",
   "execution_count": 1,
   "id": "a0dbb361-b122-453b-9918-f755050d675e",
   "metadata": {},
   "outputs": [
    {
     "name": "stdout",
     "output_type": "stream",
     "text": [
      "Columns with Null Entries:\n",
      "Series([], dtype: int64)\n",
      "Cleaned dataset shape: (2500000, 9)\n"
     ]
    }
   ],
   "source": [
    "import pandas as pd\n",
    "\n",
    "# Load the dataset\n",
    "df = pd.read_csv('car_sales_data.csv')\n",
    "\n",
    "# Identify null entries\n",
    "null_entries = df.isnull().sum()\n",
    "\n",
    "# Print the columns with null entries and their count\n",
    "print(\"Columns with Null Entries:\")\n",
    "print(null_entries[null_entries > 0])\n",
    "\n",
    "# Remove null entries\n",
    "cleaned_df = df.dropna()\n",
    "\n",
    "# Save the cleaned dataset to a new file\n",
    "cleaned_df.to_csv('cleaned_dataset.csv', index=False)\n",
    "\n",
    "# Optional: Print info about the cleaned dataset\n",
    "print(\"Cleaned dataset shape:\", cleaned_df.shape)\n"
   ]
  },
  {
   "cell_type": "code",
   "execution_count": null,
   "id": "4bf7aade-caa2-4dba-aec2-efc990906a3b",
   "metadata": {},
   "outputs": [],
   "source": []
  }
 ],
 "metadata": {
  "kernelspec": {
   "display_name": "Python 3 (ipykernel)",
   "language": "python",
   "name": "python3"
  },
  "language_info": {
   "codemirror_mode": {
    "name": "ipython",
    "version": 3
   },
   "file_extension": ".py",
   "mimetype": "text/x-python",
   "name": "python",
   "nbconvert_exporter": "python",
   "pygments_lexer": "ipython3",
   "version": "3.11.7"
  }
 },
 "nbformat": 4,
 "nbformat_minor": 5
}
